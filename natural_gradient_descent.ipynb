{
 "cells": [
  {
   "cell_type": "code",
   "execution_count": 2,
   "id": "0ccde65c",
   "metadata": {},
   "outputs": [
    {
     "name": "stdout",
     "output_type": "stream",
     "text": [
      "Modules Imported!\n"
     ]
    }
   ],
   "source": [
    "%matplotlib inline\n",
    "import matplotlib.pyplot as plt\n",
    "import numpy as np\n",
    "import scipy as sp\n",
    "import scipy.stats as st\n",
    "import scipy.linalg as la\n",
    "from math import sqrt\n",
    "from keras.datasets import mnist\n",
    "import pdb\n",
    "print(\"Modules Imported!\")"
   ]
  },
  {
   "cell_type": "code",
   "execution_count": 6,
   "id": "0ab6a699",
   "metadata": {},
   "outputs": [
    {
     "name": "stdout",
     "output_type": "stream",
     "text": [
      "X_train: (12665, 1, 784)\n",
      "Y_train: (12665,)\n",
      "X_test:  (2115, 1, 784)\n",
      "Y_test:  (2115,)\n"
     ]
    }
   ],
   "source": [
    "(full_train_X, full_train_y), (full_test_X, full_test_y) = mnist.load_data()\n",
    "train_X = []\n",
    "train_y = []\n",
    "test_X = []\n",
    "test_y = []\n",
    "\n",
    "for i in range(0, len(full_train_y)):\n",
    "    if full_train_y[i] == 0 or full_train_y[i] == 1:\n",
    "        train_X.append(full_train_X[i].reshape(1, 784)/255)\n",
    "        train_y.append(full_train_y[i])\n",
    "for i in range(0, len(full_test_y)):\n",
    "    if full_test_y[i] == 0 or full_test_y[i] == 1:\n",
    "        test_X.append(full_test_X[i].reshape(1, 784)/255)\n",
    "        test_y.append(full_test_y[i])\n",
    "\n",
    "train_X = np.array(train_X)\n",
    "train_y = np.array(train_y)\n",
    "test_X = np.array(test_X)\n",
    "test_y = np.array(test_y)\n",
    "print('X_train: ' + str(train_X.shape))\n",
    "print('Y_train: ' + str(train_y.shape))\n",
    "print('X_test:  '  + str(test_X.shape))\n",
    "print('Y_test:  '  + str(test_y.shape))\n",
    "\n",
    "d = 28*28 #dimension\n",
    "N = len(train_X)\n",
    "\n",
    "initial_weights = np.random.randn(d) / np.sqrt(d) #initialize weights"
   ]
  },
  {
   "cell_type": "code",
   "execution_count": 39,
   "id": "ee2a628f",
   "metadata": {},
   "outputs": [],
   "source": [
    "def grad_desc(w, X, y, rho, loss):\n",
    "    # w are the initial weights, should be of shape (1, d) where d is dimensionality\n",
    "    # X is the X training data, should be of shape (N, d) where N is number of samples, d is dimensionality\n",
    "    # y is the y training data, should be of shape (N, 1) where N is the number of samples\n",
    "    # rho is the learning rate\n",
    "    # loss is an empty array\n",
    "    \n",
    "    ones = np.ones(y.shape) #make array of 1s to be used for addition and subtraction in sigmoid and loss/likelihood function\n",
    "    \n",
    "    sig = ones/(ones + np.exp(-1*np.dot(X, w.T))) #put weights into sigmoid function\n",
    "    train_loss = np.sum(y*np.log(ones/sig) + (ones-y)*(np.log(ones/(ones-sig)))) / N #compute training loss\n",
    "    loss.append(train_loss)\n",
    "    #print(\"Iteration 0 training loss: \" + str(train_loss)) #print the initial loss\n",
    "        \n",
    "    for i in range(1, 50): #30 iterations for learning\n",
    "        h = np.exp(-1*np.dot(X, w.T)) #e^(-w*X) ... shape: (N, 1)\n",
    "        y_shift = np.subtract(y, ones) #make y output have 0, -1 instead of 1, 0\n",
    "        z = y_shift + np.divide(h, np.add(ones, h)) #taking (y + h/(1+h)) part of the gradient of log likelihood ... shape: (N, 1)\n",
    "        gradL = np.dot(z.T, X) / N #compute the gradient of the loss function ... shape: (1, d)\n",
    "        w = w + rho*gradL #update the weights\n",
    "        \n",
    "        sig = ones/(ones + np.exp(-1*np.dot(X, w.T))) #put weights into sigmoid function\n",
    "        train_loss = np.sum(y*np.log(ones/sig) + (ones-y)*(np.log(ones/(ones-sig)))) / N #compute training loss\n",
    "        loss.append(train_loss)\n",
    "        #print(\"Iteration \" + str(i) + \" training loss: \" + str(train_loss))\n",
    "        \n",
    "    return w #return weights"
   ]
  },
  {
   "cell_type": "code",
   "execution_count": 30,
   "id": "a8f42b5e",
   "metadata": {},
   "outputs": [
    {
     "name": "stdout",
     "output_type": "stream",
     "text": [
      "Iteration 0 training loss: 0.7438488792349337\n",
      "Iteration 1 training loss: 0.5880776465994997\n",
      "Iteration 2 training loss: 0.48756952727564706\n",
      "Iteration 3 training loss: 0.4155791362938052\n",
      "Iteration 4 training loss: 0.3614220569215988\n",
      "Iteration 5 training loss: 0.31945195345608407\n",
      "Iteration 6 training loss: 0.28616278806450307\n",
      "Iteration 7 training loss: 0.2592282130454376\n",
      "Iteration 8 training loss: 0.23705174976037313\n",
      "Iteration 9 training loss: 0.21851084049651626\n",
      "Iteration 10 training loss: 0.2027992041951292\n",
      "Iteration 11 training loss: 0.18932624522692237\n",
      "Iteration 12 training loss: 0.17765139598113985\n",
      "Iteration 13 training loss: 0.1674404216652415\n",
      "Iteration 14 training loss: 0.1584357996562328\n",
      "Iteration 15 training loss: 0.15043627878562976\n",
      "Iteration 16 training loss: 0.14328253030553692\n",
      "Iteration 17 training loss: 0.13684691025188622\n",
      "Iteration 18 training loss: 0.1310260426251582\n",
      "Iteration 19 training loss: 0.12573536863664475\n",
      "Iteration 20 training loss: 0.12090508692179182\n",
      "Iteration 21 training loss: 0.11647709184335599\n",
      "Iteration 22 training loss: 0.11240263755288481\n",
      "Iteration 23 training loss: 0.10864053640604436\n",
      "Iteration 24 training loss: 0.10515575543118469\n",
      "Iteration 25 training loss: 0.1019183125822312\n",
      "Iteration 26 training loss: 0.09890240109583315\n",
      "Iteration 27 training loss: 0.09608568908995452\n",
      "Iteration 28 training loss: 0.09344875501320052\n",
      "Iteration 29 training loss: 0.0909746293055541\n",
      "0.9981087470449173\n"
     ]
    }
   ],
   "source": [
    "w = initial_weights.reshape(1, -1)\n",
    "X = train_X.reshape(-1, d)\n",
    "y = train_y.reshape(-1, 1)\n",
    "rho = 0.05\n",
    "gd_train_loss = []\n",
    "w = grad_desc(w, X, y, rho, gd_train_loss)\n",
    "correct = 0\n",
    "for i in range(0, len(test_X)):\n",
    "    model_output = np.dot(w, test_X[i].T)\n",
    "    if model_output > 0 and test_y[i] == 1:\n",
    "        correct += 1\n",
    "    elif model_output < 0 and test_y[i] == 0:\n",
    "        correct += 1\n",
    "print(correct/len(test_X))"
   ]
  },
  {
   "cell_type": "code",
   "execution_count": 40,
   "id": "ee75143c",
   "metadata": {},
   "outputs": [],
   "source": [
    "def natural_grad_desc(w, X, y, rho, loss):\n",
    "    # w are the initial weights, should be of shape (1, d) where d is dimensionality\n",
    "    # X is the X training data, should be of shape (N, d) where N is number of samples, d is dimensionality\n",
    "    # y is the y training data, should be of shape (N, 1) where N is the number of samples\n",
    "    # rho is the learning rate\n",
    "    # loss is an empty array\n",
    "    \n",
    "    ones = np.ones(y.shape) #make array of 1s to be used for addition and subtraction in sigmoid and loss/likelihood function\n",
    "    \n",
    "    sig = ones/(ones + np.exp(-1*np.dot(X, w.T))) #put weights into sigmoid function\n",
    "    train_loss = np.sum(y*np.log(ones/sig) + (ones-y)*(np.log(ones/(ones-sig)))) / N #compute training loss\n",
    "    loss.append(train_loss)\n",
    "    #print(\"Iteration 0 training loss: \" + str(train_loss)) #print the initial loss\n",
    "        \n",
    "    for i in range(1, 50): #30 iterations for learning\n",
    "        h = np.exp(-1*np.dot(X, w.T)) #e^(-w*X) ... shape: (N, 1)\n",
    "        y_shift = np.subtract(y, ones) #make y output have 0, -1 instead of 1, 0\n",
    "        z = y_shift + np.divide(h, np.add(ones, h)) #taking (y + h/(1+h)) part of the gradient of log likelihood ... shape: (N, 1)\n",
    "        G = X * z #gradient of the log likelihood ... shape: (N, d)\n",
    "        F = np.dot(G.T, G) / N #compute the Fisher info matrix ... shape: (d, d)\n",
    "        F = F + np.eye(X.shape[1])*0.0001 #regularize the fisher matrix to make it invertible\n",
    "        gradL = np.dot(z.T, X) / N #compute the gradient of the loss function ... shape: (1, d)\n",
    "        Ng = np.linalg.solve(F, gradL.T) #solve the natural gradient vector ... shape: (d, 1)\n",
    "        w = w + rho*Ng.T #update the weights\n",
    "        \n",
    "        sig = ones/(ones + np.exp(-1*np.dot(X, w.T))) #put weights into sigmoid function\n",
    "        train_loss = np.sum(y*np.log(ones/sig) + (ones-y)*(np.log(ones/(ones-sig)))) / N #compute training loss\n",
    "        loss.append(train_loss)\n",
    "        #print(\"Iteration \" + str(i) + \" training loss: \" + str(train_loss))\n",
    "        \n",
    "    return w #return weights"
   ]
  },
  {
   "cell_type": "code",
   "execution_count": 32,
   "id": "512b2eb2",
   "metadata": {},
   "outputs": [
    {
     "name": "stdout",
     "output_type": "stream",
     "text": [
      "Iteration 0 training loss: 0.7438488792349337\n",
      "Iteration 1 training loss: 0.6969113130405071\n",
      "Iteration 2 training loss: 0.649999300779318\n",
      "Iteration 3 training loss: 0.6031237620453782\n",
      "Iteration 4 training loss: 0.5563018962998327\n",
      "Iteration 5 training loss: 0.5095602978681135\n",
      "Iteration 6 training loss: 0.462939709537183\n",
      "Iteration 7 training loss: 0.4165023984236513\n",
      "Iteration 8 training loss: 0.3703438111969102\n",
      "Iteration 9 training loss: 0.3246112918236863\n",
      "Iteration 10 training loss: 0.27953429113079414\n",
      "Iteration 11 training loss: 0.23547183771011104\n",
      "Iteration 12 training loss: 0.19297994419460707\n",
      "Iteration 13 training loss: 0.15288423825345462\n",
      "Iteration 14 training loss: 0.11630527395823234\n",
      "Iteration 15 training loss: 0.08454370244209908\n",
      "Iteration 16 training loss: 0.058744479238633344\n",
      "Iteration 17 training loss: 0.039416719282756835\n",
      "Iteration 18 training loss: 0.026136088394705895\n",
      "Iteration 19 training loss: 0.017645405633875597\n",
      "Iteration 20 training loss: 0.012416924747946766\n",
      "Iteration 21 training loss: 0.009195522678015478\n",
      "Iteration 22 training loss: 0.007163230927143236\n",
      "Iteration 23 training loss: 0.005822412317818709\n",
      "Iteration 24 training loss: 0.004869937813068775\n",
      "Iteration 25 training loss: 0.004160728345433173\n",
      "Iteration 26 training loss: 0.0036238592059274484\n",
      "Iteration 27 training loss: 0.0032101654060357294\n",
      "Iteration 28 training loss: 0.0028862528767788585\n",
      "Iteration 29 training loss: 0.0026266787076278755\n",
      "0.9990543735224586\n"
     ]
    }
   ],
   "source": [
    "w = initial_weights.reshape(1, -1)\n",
    "X = train_X.reshape(-1, d)\n",
    "y = train_y.reshape(-1, 1)\n",
    "rho = 0.05\n",
    "ngd_train_loss = []\n",
    "w = natural_grad_desc(w, X, y, rho, ngd_train_loss)\n",
    "correct = 0\n",
    "for i in range(0, len(test_X)):\n",
    "    model_output = np.dot(w, test_X[i].T)\n",
    "    if model_output > 0 and test_y[i] == 1:\n",
    "        correct += 1\n",
    "    elif model_output < 0 and test_y[i] == 0:\n",
    "        correct += 1\n",
    "print(correct/len(test_X))"
   ]
  },
  {
   "cell_type": "code",
   "execution_count": 41,
   "id": "2208f403",
   "metadata": {},
   "outputs": [
    {
     "name": "stdout",
     "output_type": "stream",
     "text": [
      "[0.6331287  0.51200533 0.43083667 0.37150985 0.32626753 0.29079018\n",
      " 0.2623444  0.23909962 0.21978903 0.20351396 0.18962294 0.17763435\n",
      " 0.16718573 0.15799978 0.14986116 0.14260034 0.13608221 0.13019783\n",
      " 0.12485848 0.11999117 0.11553536 0.11144043 0.1076637  0.104169\n",
      " 0.10092543 0.09790643 0.0950891  0.09245355 0.08998241 0.08766049\n",
      " 0.08547441 0.08341236 0.08146385 0.07961956 0.07787117 0.07621122\n",
      " 0.07463302 0.07313053 0.07169831 0.07033142 0.06902538 0.06777611\n",
      " 0.0665799  0.06543336 0.06433336 0.06327707 0.06226185 0.06128529\n",
      " 0.06034516 0.05943941]\n",
      "[6.33128703e-01 5.86146395e-01 5.39205636e-01 4.92332607e-01\n",
      " 4.45568204e-01 3.98975795e-01 3.52653453e-01 3.06753593e-01\n",
      " 2.61515010e-01 2.17315351e-01 1.74754176e-01 1.34767311e-01\n",
      " 9.87204919e-02 6.83010088e-02 4.48628820e-02 2.84360714e-02\n",
      " 1.79423037e-02 1.16770667e-02 8.02080993e-03 5.94354947e-03\n",
      " 4.73954008e-03 3.96755922e-03 3.41281743e-03 2.98596002e-03\n",
      " 2.64699560e-03 2.37290385e-03 2.14733034e-03 1.95791538e-03\n",
      " 1.79563343e-03 1.65409662e-03 1.52891165e-03 1.41713031e-03\n",
      " 1.31675675e-03 1.22638738e-03 1.14498382e-03 1.07173267e-03\n",
      " 1.00593535e-03 9.46841634e-04 8.93590444e-04 8.45374008e-04\n",
      " 8.01521743e-04 7.61480501e-04 7.24777949e-04 6.91000068e-04\n",
      " 6.59788816e-04 6.30842900e-04 6.03910098e-04 5.78779127e-04\n",
      " 5.55276035e-04 5.33260299e-04]\n"
     ]
    },
    {
     "data": {
      "image/png": "[encoded data removed]",
      "text/plain": [
       "<Figure size 432x288 with 1 Axes>"
      ]
     },
     "metadata": {
      "needs_background": "light"
     },
     "output_type": "display_data"
    }
   ],
   "source": [
    "#Experiment\n",
    "\n",
    "X = train_X.reshape(-1, d)\n",
    "y = train_y.reshape(-1, 1)\n",
    "rho = 0.05\n",
    "gd_losses = []\n",
    "ngd_losses = []\n",
    "\n",
    "for i in range(5):\n",
    "    w = np.random.randn(d) / np.sqrt(d) #random weights\n",
    "    gd_w = w.reshape(1, -1)\n",
    "    ngd_w = w.reshape(1, -1)\n",
    "    gd_loss = []\n",
    "    ngd_loss = []\n",
    "    grad_desc(gd_w, X, y, rho, gd_loss)\n",
    "    natural_grad_desc(ngd_w, X, y, rho, ngd_loss)\n",
    "    gd_losses.append(gd_loss)\n",
    "    ngd_losses.append(ngd_loss)\n",
    "\n",
    "avg_gd_loss = np.mean(np.array(gd_losses), axis=0)\n",
    "avg_ngd_loss = np.mean(np.array(ngd_losses), axis=0)\n",
    "iteration = [i for i in range(0, 50)]\n",
    "#print(avg_gd_loss)\n",
    "#print(avg_ngd_loss)\n",
    "plt.plot(iteration, avg_gd_loss)\n",
    "plt.plot(iteration, avg_ngd_loss)\n",
    "plt.show()"
   ]
  },
  {
   "cell_type": "markdown",
   "id": "1211452e",
   "metadata": {},
   "source": [
    "The natural gradient descent (orange) converges faster than regular gradient descent (blue)"
   ]
  },
  {
   "cell_type": "code",
   "execution_count": null,
   "id": "65a9f170",
   "metadata": {},
   "outputs": [],
   "source": []
  }
 ],
 "metadata": {
  "kernelspec": {
   "display_name": "Python 3 (ipykernel)",
   "language": "python",
   "name": "python3"
  },
  "language_info": {
   "codemirror_mode": {
    "name": "ipython",
    "version": 3
   },
   "file_extension": ".py",
   "mimetype": "text/x-python",
   "name": "python",
   "nbconvert_exporter": "python",
   "pygments_lexer": "ipython3",
   "version": "3.9.12"
  }
 },
 "nbformat": 4,
 "nbformat_minor": 5
}
